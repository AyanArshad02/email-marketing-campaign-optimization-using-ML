{
 "cells": [
  {
   "cell_type": "code",
   "execution_count": 2,
   "metadata": {},
   "outputs": [],
   "source": [
    "import pandas as pd\n",
    "import numpy as np\n",
    "import matplotlib.pyplot as plt\n",
    "import seaborn as sns\n",
    "import warnings\n",
    "warnings.filterwarnings('ignore')"
   ]
  },
  {
   "cell_type": "code",
   "execution_count": 3,
   "metadata": {},
   "outputs": [
    {
     "name": "stdout",
     "output_type": "stream",
     "text": [
      "Email Table Preview:\n",
      "   email_id   email_text email_version  hour    weekday user_country  \\\n",
      "0     85120  short_email  personalized     2     Sunday           US   \n",
      "1    966622   long_email  personalized    12     Sunday           UK   \n",
      "2    777221   long_email  personalized    11  Wednesday           US   \n",
      "3    493711  short_email       generic     6     Monday           UK   \n",
      "4    106887   long_email       generic    14     Monday           US   \n",
      "\n",
      "   user_past_purchases  \n",
      "0                    5  \n",
      "1                    2  \n",
      "2                    2  \n",
      "3                    1  \n",
      "4                    6  \n",
      "------------------------------------------------------------------\n",
      "\n",
      "Email Opened Table Preview:\n",
      "   email_id\n",
      "0    284534\n",
      "1    609056\n",
      "2    220820\n",
      "3    905936\n",
      "4    164034\n",
      "------------------------------------------------------------------\n",
      "\n",
      "Link Clicked Table Preview:\n",
      "   email_id\n",
      "0    609056\n",
      "1    870980\n",
      "2    935124\n",
      "3    158501\n",
      "4    177561\n"
     ]
    }
   ],
   "source": [
    "# Load the data\n",
    "email_table = pd.read_csv('data/email_table.csv')\n",
    "email_opened_table = pd.read_csv('data/email_opened_table.csv')\n",
    "link_clicked_table = pd.read_csv('data/link_clicked_table.csv')\n",
    "\n",
    "# Display the first 5 rows of each table to understand structure\n",
    "print(\"Email Table Preview:\")\n",
    "print(email_table.head())\n",
    "print(\"------------------------------------------------------------------\")\n",
    "print(\"\\nEmail Opened Table Preview:\")\n",
    "print(email_opened_table.head())\n",
    "print(\"------------------------------------------------------------------\")\n",
    "print(\"\\nLink Clicked Table Preview:\")\n",
    "print(link_clicked_table.head())"
   ]
  },
  {
   "cell_type": "code",
   "execution_count": 5,
   "metadata": {},
   "outputs": [
    {
     "name": "stdout",
     "output_type": "stream",
     "text": [
      "Shape of email_table :  (100000, 7)\n",
      "Shape of email_opened_table :  (10345, 1)\n",
      "Shape of link_clicked_table :  (2119, 1)\n"
     ]
    }
   ],
   "source": [
    "print(\"Shape of email_table : \",email_table.shape)\n",
    "print(\"Shape of email_opened_table : \",email_opened_table.shape)\n",
    "print(\"Shape of link_clicked_table : \",link_clicked_table.shape)"
   ]
  },
  {
   "cell_type": "code",
   "execution_count": 6,
   "metadata": {},
   "outputs": [],
   "source": [
    "# Creating binary indicators for opened and clicked emails\n",
    "email_table['opened'] = email_table['email_id'].isin(email_opened_table['email_id']).astype(int)\n",
    "email_table['clicked'] = email_table['email_id'].isin(link_clicked_table['email_id']).astype(int)"
   ]
  },
  {
   "cell_type": "code",
   "execution_count": 7,
   "metadata": {},
   "outputs": [
    {
     "data": {
      "text/plain": [
       "opened\n",
       "0    89655\n",
       "1    10345\n",
       "Name: count, dtype: int64"
      ]
     },
     "execution_count": 7,
     "metadata": {},
     "output_type": "execute_result"
    }
   ],
   "source": [
    "email_table['opened'].value_counts()"
   ]
  },
  {
   "cell_type": "code",
   "execution_count": 8,
   "metadata": {},
   "outputs": [
    {
     "data": {
      "text/plain": [
       "clicked\n",
       "0    97881\n",
       "1     2119\n",
       "Name: count, dtype: int64"
      ]
     },
     "execution_count": 8,
     "metadata": {},
     "output_type": "execute_result"
    }
   ],
   "source": [
    "email_table['clicked'].value_counts()"
   ]
  },
  {
   "cell_type": "code",
   "execution_count": 10,
   "metadata": {},
   "outputs": [
    {
     "name": "stdout",
     "output_type": "stream",
     "text": [
      "Warning: 50 emails were clicked but not marked as opened.\n"
     ]
    }
   ],
   "source": [
    "# Ensuring all emails in clicked are also in opened (data consistency check)\n",
    "clicked_not_opened = email_table[(email_table['clicked'] == 1) & (email_table['opened'] == 0)]\n",
    "if len(clicked_not_opened) > 0:\n",
    "    print(f\"Warning: {len(clicked_not_opened)} emails were clicked but not marked as opened.\")"
   ]
  },
  {
   "cell_type": "code",
   "execution_count": 11,
   "metadata": {},
   "outputs": [],
   "source": [
    "# Fixing data inconsistency by marking clicked email as opened\n",
    "email_table.loc[email_table['clicked'] == 1, 'opened'] = 1"
   ]
  },
  {
   "cell_type": "code",
   "execution_count": 13,
   "metadata": {},
   "outputs": [],
   "source": [
    "# Now this code should not print any warnings as we have fixed the inconsistency in the above cell\n",
    "clicked_not_opened = email_table[(email_table['clicked'] == 1) & (email_table['opened'] == 0)]\n",
    "if len(clicked_not_opened) > 0:\n",
    "    print(f\"Warning: {len(clicked_not_opened)} emails were clicked but not marked as opened.\")"
   ]
  },
  {
   "cell_type": "markdown",
   "metadata": {},
   "source": [
    "Insights :\n",
    "Dataset shows that some link has been clicked by the customer but it was not opened by them, so this was the case of data inconistency. Fixed it by marking clicked email as opened"
   ]
  },
  {
   "cell_type": "code",
   "execution_count": 16,
   "metadata": {},
   "outputs": [
    {
     "name": "stdout",
     "output_type": "stream",
     "text": [
      "Missing values in email_table:\n",
      "email_id               0\n",
      "email_text             0\n",
      "email_version          0\n",
      "hour                   0\n",
      "weekday                0\n",
      "user_country           0\n",
      "user_past_purchases    0\n",
      "opened                 0\n",
      "clicked                0\n",
      "dtype: int64\n",
      "--------------------------------------------------------------\n",
      "\n",
      "Data types in email_table:\n",
      "email_id                int64\n",
      "email_text             object\n",
      "email_version          object\n",
      "hour                    int64\n",
      "weekday                object\n",
      "user_country           object\n",
      "user_past_purchases     int64\n",
      "opened                  int64\n",
      "clicked                 int64\n",
      "dtype: object\n"
     ]
    }
   ],
   "source": [
    "# Check for missing values\n",
    "print(\"Missing values in email_table:\")\n",
    "print(email_table.isnull().sum())\n",
    "\n",
    "print(\"--------------------------------------------------------------\")\n",
    "\n",
    "# Check data types\n",
    "print(\"\\nData types in email_table:\")\n",
    "print(email_table.dtypes)"
   ]
  },
  {
   "cell_type": "markdown",
   "metadata": {},
   "source": [
    "Insights :\n",
    "1. Dataset has 0 missing values\n",
    "2. It has numerical as well as categorical columns"
   ]
  },
  {
   "cell_type": "code",
   "execution_count": 18,
   "metadata": {},
   "outputs": [
    {
     "name": "stdout",
     "output_type": "stream",
     "text": [
      "Basic statistics for numerical columns:\n",
      "            email_id           hour  user_past_purchases         opened  \\\n",
      "count  100000.000000  100000.000000         100000.00000  100000.000000   \n",
      "mean   498690.196160       9.059300              3.87845       0.103950   \n",
      "std    289230.727534       4.439637              3.19611       0.305197   \n",
      "min         8.000000       1.000000              0.00000       0.000000   \n",
      "25%    246708.250000       6.000000              1.00000       0.000000   \n",
      "50%    498447.000000       9.000000              3.00000       0.000000   \n",
      "75%    749942.750000      12.000000              6.00000       0.000000   \n",
      "max    999998.000000      24.000000             22.00000       1.000000   \n",
      "\n",
      "             clicked  \n",
      "count  100000.000000  \n",
      "mean        0.021190  \n",
      "std         0.144018  \n",
      "min         0.000000  \n",
      "25%         0.000000  \n",
      "50%         0.000000  \n",
      "75%         0.000000  \n",
      "max         1.000000  \n",
      "--------------------------------------------------------------\n",
      "\n",
      "Concise summary of email_table:\n",
      "<class 'pandas.core.frame.DataFrame'>\n",
      "RangeIndex: 100000 entries, 0 to 99999\n",
      "Data columns (total 9 columns):\n",
      " #   Column               Non-Null Count   Dtype \n",
      "---  ------               --------------   ----- \n",
      " 0   email_id             100000 non-null  int64 \n",
      " 1   email_text           100000 non-null  object\n",
      " 2   email_version        100000 non-null  object\n",
      " 3   hour                 100000 non-null  int64 \n",
      " 4   weekday              100000 non-null  object\n",
      " 5   user_country         100000 non-null  object\n",
      " 6   user_past_purchases  100000 non-null  int64 \n",
      " 7   opened               100000 non-null  int64 \n",
      " 8   clicked              100000 non-null  int64 \n",
      "dtypes: int64(5), object(4)\n",
      "memory usage: 6.9+ MB\n",
      "None\n"
     ]
    }
   ],
   "source": [
    "# Basic statistics using describe()\n",
    "print(\"Basic statistics for numerical columns:\")\n",
    "print(email_table.describe())\n",
    "\n",
    "print(\"--------------------------------------------------------------\")\n",
    "\n",
    "# Concise summary of the DataFrame using info()\n",
    "print(\"\\nConcise summary of email_table:\")\n",
    "print(email_table.info())"
   ]
  },
  {
   "cell_type": "code",
   "execution_count": 19,
   "metadata": {},
   "outputs": [
    {
     "name": "stdout",
     "output_type": "stream",
     "text": [
      "\n",
      "Numerical columns:\n",
      "['email_id', 'hour', 'user_past_purchases', 'opened', 'clicked']\n",
      "\n",
      "Categorical columns:\n",
      "['email_text', 'email_version', 'weekday', 'user_country']\n"
     ]
    }
   ],
   "source": [
    "numerical_cols = email_table.select_dtypes(include=['int64']).columns.tolist()\n",
    "categorical_cols = email_table.select_dtypes(include=['object']).columns.tolist()\n",
    "\n",
    "print(\"\\nNumerical columns:\")\n",
    "print(numerical_cols)\n",
    "print(\"\\nCategorical columns:\")\n",
    "print(categorical_cols)"
   ]
  },
  {
   "cell_type": "code",
   "execution_count": 20,
   "metadata": {},
   "outputs": [
    {
     "name": "stdout",
     "output_type": "stream",
     "text": [
      "Unique values in categorical columns:\n",
      "email_text: ['short_email' 'long_email']\n",
      "email_version: ['personalized' 'generic']\n",
      "weekday: ['Sunday' 'Wednesday' 'Monday' 'Saturday' 'Friday' 'Tuesday' 'Thursday']\n",
      "user_country: ['US' 'UK' 'FR' 'ES']\n"
     ]
    }
   ],
   "source": [
    "# Unique values for categorical columns\n",
    "print(\"Unique values in categorical columns:\")\n",
    "for col in ['email_text', 'email_version', 'weekday', 'user_country']:\n",
    "    print(f\"{col}: {email_table[col].unique()}\")"
   ]
  },
  {
   "cell_type": "markdown",
   "metadata": {},
   "source": [
    "1. 2 unique values in email_text & email_version , therefore binary encoding\n",
    "2. In weekday, we can apply ordinal encoding\n",
    "3. In user_country , we can try one-hot encoding"
   ]
  },
  {
   "cell_type": "markdown",
   "metadata": {},
   "source": [
    "### Calculating Performance Metrics"
   ]
  },
  {
   "cell_type": "code",
   "execution_count": 22,
   "metadata": {},
   "outputs": [
    {
     "name": "stdout",
     "output_type": "stream",
     "text": [
      "Total emails sent: 100000\n",
      "Number of opened emails: 10395\n",
      "Open Rate: 10.39%\n",
      "Number of clicked emails: 2119\n",
      "Click-Through Rate (CTR): 2.12%\n",
      "Click-to-Open Rate (CTOR): 20.38%\n"
     ]
    }
   ],
   "source": [
    "# Calculating key performance metrics from the marketing team perspective\n",
    "total_emails = len(email_table)\n",
    "opened_emails = email_table['opened'].sum()\n",
    "clicked_emails = email_table['clicked'].sum()\n",
    "\n",
    "open_rate = opened_emails / total_emails * 100\n",
    "ctr = clicked_emails / total_emails * 100\n",
    "ctor = clicked_emails / opened_emails * 100 if opened_emails > 0 else 0\n",
    "\n",
    "print(f\"Total emails sent: {total_emails}\")\n",
    "print(f\"Number of opened emails: {opened_emails}\")\n",
    "print(f\"Open Rate: {open_rate:.2f}%\")\n",
    "print(f\"Number of clicked emails: {clicked_emails}\")\n",
    "print(f\"Click-Through Rate (CTR): {ctr:.2f}%\")\n",
    "print(f\"Click-to-Open Rate (CTOR): {ctor:.2f}%\")"
   ]
  },
  {
   "cell_type": "markdown",
   "metadata": {},
   "source": [
    "#### Insights & Interpretations : \n",
    "##### ✅ 1. What’s Working Well:\n",
    "1. Good CTOR (Click-to-Open Rate) at 20.38%:\n",
    "\n",
    "- This indicates that once people open the email, a decent percentage (1 in 5) are actually interested enough to click on the link.\n",
    "\n",
    "- This suggests that the email content and CTA (Call-To-Action) are relevant and compelling.\n",
    "\n",
    "##### ❌ 2. Areas of Concern:\n",
    "1. Low Open Rate (10.39%)\n",
    "\n",
    "- Only 1 in 10 users opened the email. That means ~90% of recipients ignored it.\n",
    "\n",
    "- This suggests a weak subject line, poor sender reputation, or users being uninterested in the topic at first glance.\n",
    "\n",
    "2. Low CTR (2.12%)\n",
    "\n",
    "- The ultimate goal was to get users to click. Only ~2 in 100 did so.\n",
    "\n",
    "- While CTOR is strong, the overall impact is limited due to the low open rate."
   ]
  },
  {
   "cell_type": "code",
   "execution_count": 24,
   "metadata": {},
   "outputs": [
    {
     "data": {
      "image/png": "[encoded data removed]",
      "text/plain": [
       "<Figure size 1000x600 with 1 Axes>"
      ]
     },
     "metadata": {},
     "output_type": "display_data"
    }
   ],
   "source": [
    "# Visualizing the above key performance metrics\n",
    "metrics = ['Open Rate', 'CTR', 'CTOR']\n",
    "values = [open_rate, ctr, ctor]\n",
    "\n",
    "plt.figure(figsize=(10, 6))\n",
    "sns.barplot(x=metrics, y=values)\n",
    "plt.title('Email Campaign Performance Metrics')\n",
    "plt.ylabel('Percentage (%)')\n",
    "plt.savefig('email_metrics.png', dpi=300, bbox_inches='tight')\n",
    "plt.show()"
   ]
  },
  {
   "cell_type": "code",
   "execution_count": null,
   "metadata": {},
   "outputs": [],
   "source": []
  },
  {
   "cell_type": "code",
   "execution_count": null,
   "metadata": {},
   "outputs": [],
   "source": []
  },
  {
   "cell_type": "code",
   "execution_count": null,
   "metadata": {},
   "outputs": [],
   "source": []
  }
 ],
 "metadata": {
  "kernelspec": {
   "display_name": "Python 3",
   "language": "python",
   "name": "python3"
  },
  "language_info": {
   "codemirror_mode": {
    "name": "ipython",
    "version": 3
   },
   "file_extension": ".py",
   "mimetype": "text/x-python",
   "name": "python",
   "nbconvert_exporter": "python",
   "pygments_lexer": "ipython3",
   "version": "3.10.0"
  },
  "orig_nbformat": 4
 },
 "nbformat": 4,
 "nbformat_minor": 2
}
